{
 "cells": [
  {
   "cell_type": "markdown",
   "id": "6329a81a-5909-4be0-bf51-d5d936e60177",
   "metadata": {},
   "source": [
    "# Loading the Dataset"
   ]
  },
  {
   "cell_type": "code",
   "execution_count": 2,
   "id": "3585dd06-45b5-419e-b6b0-8954ac906167",
   "metadata": {},
   "outputs": [
    {
     "data": {
      "text/html": [
       "<div>\n",
       "<style scoped>\n",
       "    .dataframe tbody tr th:only-of-type {\n",
       "        vertical-align: middle;\n",
       "    }\n",
       "\n",
       "    .dataframe tbody tr th {\n",
       "        vertical-align: top;\n",
       "    }\n",
       "\n",
       "    .dataframe thead th {\n",
       "        text-align: right;\n",
       "    }\n",
       "</style>\n",
       "<table border=\"1\" class=\"dataframe\">\n",
       "  <thead>\n",
       "    <tr style=\"text-align: right;\">\n",
       "      <th></th>\n",
       "      <th>Tissue</th>\n",
       "      <th>Log10LifetimeRisk</th>\n",
       "      <th>Log10TotaStemCellDivisions</th>\n",
       "    </tr>\n",
       "  </thead>\n",
       "  <tbody>\n",
       "    <tr>\n",
       "      <th>4</th>\n",
       "      <td>Appendicular_Skeleton_Forelimbs</td>\n",
       "      <td>-4.397940</td>\n",
       "      <td>6.658011</td>\n",
       "    </tr>\n",
       "    <tr>\n",
       "      <th>5</th>\n",
       "      <td>Appendicular_Skeleton_Hindlimbs</td>\n",
       "      <td>-3.657577</td>\n",
       "      <td>7.046495</td>\n",
       "    </tr>\n",
       "    <tr>\n",
       "      <th>6</th>\n",
       "      <td>Appendicular_Skeleton_Pelvis</td>\n",
       "      <td>-4.522879</td>\n",
       "      <td>6.498311</td>\n",
       "    </tr>\n",
       "    <tr>\n",
       "      <th>11</th>\n",
       "      <td>Brain_Hind</td>\n",
       "      <td>-3.958607</td>\n",
       "      <td>8.434569</td>\n",
       "    </tr>\n",
       "    <tr>\n",
       "      <th>12</th>\n",
       "      <td>Brain_Mid_and_Fore</td>\n",
       "      <td>-2.659556</td>\n",
       "      <td>8.431364</td>\n",
       "    </tr>\n",
       "    <tr>\n",
       "      <th>16</th>\n",
       "      <td>Colorectal_Glands</td>\n",
       "      <td>-1.318759</td>\n",
       "      <td>12.067443</td>\n",
       "    </tr>\n",
       "    <tr>\n",
       "      <th>21</th>\n",
       "      <td>Dermis</td>\n",
       "      <td>-0.522879</td>\n",
       "      <td>12.550228</td>\n",
       "    </tr>\n",
       "    <tr>\n",
       "      <th>22</th>\n",
       "      <td>Duodenal_Glands</td>\n",
       "      <td>-3.522879</td>\n",
       "      <td>9.891872</td>\n",
       "    </tr>\n",
       "    <tr>\n",
       "      <th>26</th>\n",
       "      <td>Epidermis</td>\n",
       "      <td>-1.692504</td>\n",
       "      <td>11.882980</td>\n",
       "    </tr>\n",
       "    <tr>\n",
       "      <th>29</th>\n",
       "      <td>Esophageal_Epithelium</td>\n",
       "      <td>-2.712646</td>\n",
       "      <td>9.080266</td>\n",
       "    </tr>\n",
       "    <tr>\n",
       "      <th>31</th>\n",
       "      <td>Gallbladder</td>\n",
       "      <td>-2.552842</td>\n",
       "      <td>7.894316</td>\n",
       "    </tr>\n",
       "    <tr>\n",
       "      <th>37</th>\n",
       "      <td>Liver</td>\n",
       "      <td>-2.148742</td>\n",
       "      <td>11.432809</td>\n",
       "    </tr>\n",
       "    <tr>\n",
       "      <th>38</th>\n",
       "      <td>Lungs</td>\n",
       "      <td>-2.346787</td>\n",
       "      <td>9.967173</td>\n",
       "    </tr>\n",
       "    <tr>\n",
       "      <th>44</th>\n",
       "      <td>Myeloid_Tissue</td>\n",
       "      <td>-2.031517</td>\n",
       "      <td>11.113609</td>\n",
       "    </tr>\n",
       "    <tr>\n",
       "      <th>47</th>\n",
       "      <td>Nasal_Oral_Epithelium</td>\n",
       "      <td>-1.860121</td>\n",
       "      <td>10.503246</td>\n",
       "    </tr>\n",
       "    <tr>\n",
       "      <th>49</th>\n",
       "      <td>Ovaries</td>\n",
       "      <td>-3.386158</td>\n",
       "      <td>7.342423</td>\n",
       "    </tr>\n",
       "    <tr>\n",
       "      <th>51</th>\n",
       "      <td>Pancreas</td>\n",
       "      <td>-1.860656</td>\n",
       "      <td>11.542661</td>\n",
       "    </tr>\n",
       "    <tr>\n",
       "      <th>53</th>\n",
       "      <td>Pharynx</td>\n",
       "      <td>-1.860121</td>\n",
       "      <td>10.503246</td>\n",
       "    </tr>\n",
       "    <tr>\n",
       "      <th>57</th>\n",
       "      <td>Sclerotomes_and_Axial_Skeleton</td>\n",
       "      <td>-4.519993</td>\n",
       "      <td>6.779596</td>\n",
       "    </tr>\n",
       "    <tr>\n",
       "      <th>61</th>\n",
       "      <td>Small_Intestine_Epithelium</td>\n",
       "      <td>-3.154902</td>\n",
       "      <td>11.465680</td>\n",
       "    </tr>\n",
       "    <tr>\n",
       "      <th>70</th>\n",
       "      <td>Testes</td>\n",
       "      <td>-2.431798</td>\n",
       "      <td>9.524785</td>\n",
       "    </tr>\n",
       "    <tr>\n",
       "      <th>71</th>\n",
       "      <td>Thyroid_Follicular</td>\n",
       "      <td>-1.988853</td>\n",
       "      <td>8.767156</td>\n",
       "    </tr>\n",
       "    <tr>\n",
       "      <th>72</th>\n",
       "      <td>Thyroid_Parafollicular</td>\n",
       "      <td>-3.489455</td>\n",
       "      <td>7.767156</td>\n",
       "    </tr>\n",
       "  </tbody>\n",
       "</table>\n",
       "</div>"
      ],
      "text/plain": [
       "                             Tissue  Log10LifetimeRisk  \\\n",
       "4   Appendicular_Skeleton_Forelimbs          -4.397940   \n",
       "5   Appendicular_Skeleton_Hindlimbs          -3.657577   \n",
       "6      Appendicular_Skeleton_Pelvis          -4.522879   \n",
       "11                       Brain_Hind          -3.958607   \n",
       "12               Brain_Mid_and_Fore          -2.659556   \n",
       "16                Colorectal_Glands          -1.318759   \n",
       "21                           Dermis          -0.522879   \n",
       "22                  Duodenal_Glands          -3.522879   \n",
       "26                        Epidermis          -1.692504   \n",
       "29            Esophageal_Epithelium          -2.712646   \n",
       "31                      Gallbladder          -2.552842   \n",
       "37                            Liver          -2.148742   \n",
       "38                            Lungs          -2.346787   \n",
       "44                   Myeloid_Tissue          -2.031517   \n",
       "47            Nasal_Oral_Epithelium          -1.860121   \n",
       "49                          Ovaries          -3.386158   \n",
       "51                         Pancreas          -1.860656   \n",
       "53                          Pharynx          -1.860121   \n",
       "57   Sclerotomes_and_Axial_Skeleton          -4.519993   \n",
       "61       Small_Intestine_Epithelium          -3.154902   \n",
       "70                           Testes          -2.431798   \n",
       "71               Thyroid_Follicular          -1.988853   \n",
       "72           Thyroid_Parafollicular          -3.489455   \n",
       "\n",
       "    Log10TotaStemCellDivisions  \n",
       "4                     6.658011  \n",
       "5                     7.046495  \n",
       "6                     6.498311  \n",
       "11                    8.434569  \n",
       "12                    8.431364  \n",
       "16                   12.067443  \n",
       "21                   12.550228  \n",
       "22                    9.891872  \n",
       "26                   11.882980  \n",
       "29                    9.080266  \n",
       "31                    7.894316  \n",
       "37                   11.432809  \n",
       "38                    9.967173  \n",
       "44                   11.113609  \n",
       "47                   10.503246  \n",
       "49                    7.342423  \n",
       "51                   11.542661  \n",
       "53                   10.503246  \n",
       "57                    6.779596  \n",
       "61                   11.465680  \n",
       "70                    9.524785  \n",
       "71                    8.767156  \n",
       "72                    7.767156  "
      ]
     },
     "execution_count": 2,
     "metadata": {},
     "output_type": "execute_result"
    }
   ],
   "source": [
    "# Import packages\n",
    "import pandas as pd\n",
    "import numpy as np\n",
    "from scipy import stats\n",
    "import matplotlib.pyplot as plt\n",
    "from pathlib import Path\n",
    "\n",
    "# Load DataFrame from file_path\n",
    "## Cancer rates data are taken from: https://science.sciencemag.org/content/371/6535/1245?utm_campaign=toc_sci-mag_2021-03-18&et_rid=681382821&et_cid=3704890\n",
    "data_folder = Path('./data/')\n",
    "file = data_folder / 'Data.Log10LifetimeRisk.Log10TotaStemCellDivisions.txt'\n",
    "cancer_sc_df = pd.read_csv(file, sep='\\t', names=['Tissue', 'Log10LifetimeRisk', 'Log10TotaStemCellDivisions'], na_values='-')\n",
    "\n",
    "# Identifying some variables for future use\n",
    "LogRisk = cancer_sc_df['Log10LifetimeRisk']\n",
    "LogStem = cancer_sc_df['Log10TotaStemCellDivisions']\n",
    "\n",
    "# Removing NaN values from the dataset\n",
    "cancer_sc_df = cancer_sc_df.dropna()\n",
    "cancer_sc_df"
   ]
  },
  {
   "cell_type": "markdown",
   "id": "f3cbd568-f738-4ee1-927a-baa0ac0c0461",
   "metadata": {},
   "source": [
    "# Why the Analyses Will Be Done On Log Transformed Data"
   ]
  },
  {
   "cell_type": "markdown",
   "id": "aa0e8fe9-7177-48a4-9d51-61c57cf1a0c0",
   "metadata": {},
   "source": [
    "### Histograms of the Non-Log Transformed Data"
   ]
  },
  {
   "cell_type": "code",
   "execution_count": 76,
   "id": "1d25db6a-d7e6-410c-86e3-1d479a69ea47",
   "metadata": {},
   "outputs": [
    {
     "data": {
      "text/plain": [
       "(array([27.,  1.,  1.,  0.,  0.,  0.,  0.,  1.,  0.,  2.]),\n",
       " array([1.52760081e-03, 3.58219687e+05, 7.16439372e+05, 1.07465906e+06,\n",
       "        1.43287874e+06, 1.79109843e+06, 2.14931811e+06, 2.50753780e+06,\n",
       "        2.86575748e+06, 3.22397717e+06, 3.58219685e+06]),\n",
       " <BarContainer object of 10 artists>)"
      ]
     },
     "execution_count": 76,
     "metadata": {},
     "output_type": "execute_result"
    },
    {
     "data": {
      "image/png": "[encoded data removed]",
      "text/plain": [
       "<Figure size 432x288 with 1 Axes>"
      ]
     },
     "metadata": {
      "needs_background": "light"
     },
     "output_type": "display_data"
    }
   ],
   "source": [
    "# Reversing the log transformation for lifetime risk\n",
    "RegRisk = np.power(LogRisk,10)\n",
    "plt.hist(RegRisk)"
   ]
  },
  {
   "cell_type": "code",
   "execution_count": 77,
   "id": "63eeab97-f2b3-4027-a670-f5b6d5b10dcc",
   "metadata": {},
   "outputs": [
    {
     "data": {
      "text/plain": [
       "(array([14.,  2.,  1.,  1.,  2.,  1.,  1.,  0.,  0.,  1.]),\n",
       " array([1.34277926e+08, 9.81514618e+09, 1.94960144e+10, 2.91768827e+10,\n",
       "        3.88577510e+10, 4.85386192e+10, 5.82194875e+10, 6.79003557e+10,\n",
       "        7.75812240e+10, 8.72620922e+10, 9.69429605e+10]),\n",
       " <BarContainer object of 10 artists>)"
      ]
     },
     "execution_count": 77,
     "metadata": {},
     "output_type": "execute_result"
    },
    {
     "data": {
      "image/png": "[encoded data removed]",
      "text/plain": [
       "<Figure size 432x288 with 1 Axes>"
      ]
     },
     "metadata": {
      "needs_background": "light"
     },
     "output_type": "display_data"
    }
   ],
   "source": [
    "# Reversing the Log transformation for stem cells\n",
    "RegStem = np.power(LogStem,10)\n",
    "plt.hist(RegStem)"
   ]
  },
  {
   "cell_type": "markdown",
   "id": "baf4e011-cb3d-43af-8335-46f6c08bb5a0",
   "metadata": {},
   "source": [
    "As shown by both histograms, the non-log transformed data is incredibly skewed"
   ]
  },
  {
   "cell_type": "markdown",
   "id": "15ee7d8c-be5c-473f-b827-56c021a26ac8",
   "metadata": {},
   "source": [
    "### Histograms of the Log Transformed Data"
   ]
  },
  {
   "cell_type": "code",
   "execution_count": 78,
   "id": "c31b0b7e-fce7-4262-8eeb-244fb67dfd77",
   "metadata": {},
   "outputs": [
    {
     "name": "stdout",
     "output_type": "stream",
     "text": [
      "Both log transformed histograms, in the same cell\n",
      "       Log10LifetimeRisk  Log10TotaStemCellDivisions\n",
      "count          23.000000                   23.000000\n",
      "mean           -2.721660                    9.441104\n",
      "std             1.071136                    1.930491\n",
      "min            -4.522879                    6.498311\n",
      "25%            -3.506167                    7.830736\n",
      "50%            -2.552842                    9.524785\n",
      "75%            -1.924754                   11.273209\n",
      "max            -0.522879                   12.550228\n"
     ]
    },
    {
     "data": {
      "image/png": "[encoded data removed]",
      "text/plain": [
       "<Figure size 432x288 with 1 Axes>"
      ]
     },
     "metadata": {
      "needs_background": "light"
     },
     "output_type": "display_data"
    }
   ],
   "source": [
    "# Both Histograms while log transformed\n",
    "print('Both log transformed histograms, in the same cell')\n",
    "plt.hist(cancer_sc_df['Log10LifetimeRisk'])\n",
    "plt.hist(cancer_sc_df['Log10TotaStemCellDivisions'])\n",
    "print(cancer_sc_df.describe())"
   ]
  },
  {
   "cell_type": "markdown",
   "id": "742e8103-6927-4660-822c-5564f4a776bb",
   "metadata": {},
   "source": [
    "By comparison, the log-transformed data much more closely resembles a bell-curve. As such, the analyses will be performed using the log-transformed data"
   ]
  },
  {
   "cell_type": "markdown",
   "id": "6a0f798a-8d4e-4671-b732-35ffbe877fd1",
   "metadata": {},
   "source": [
    "# Correlation Test"
   ]
  },
  {
   "cell_type": "markdown",
   "id": "ad43f85c-f6c0-40fe-a99b-a0c53f583d35",
   "metadata": {},
   "source": [
    "### Regression Model"
   ]
  },
  {
   "cell_type": "code",
   "execution_count": 24,
   "id": "e27775b7-2201-45bd-810f-b16704b032e7",
   "metadata": {},
   "outputs": [
    {
     "data": {
      "image/png": "[encoded data removed]",
      "text/plain": [
       "<Figure size 432x288 with 1 Axes>"
      ]
     },
     "metadata": {
      "needs_background": "light"
     },
     "output_type": "display_data"
    },
    {
     "name": "stdout",
     "output_type": "stream",
     "text": [
      "This linear regression model has a coefficient of determination value of 0.6995519607987079\n",
      "slope: [[0.46407323]]\n"
     ]
    }
   ],
   "source": [
    "# Creating a linear regression model to look for correlations\n",
    "from sklearn import linear_model\n",
    "\n",
    "x = cancer_sc_df[['Log10TotaStemCellDivisions']]\n",
    "y = cancer_sc_df[['Log10LifetimeRisk']]\n",
    "\n",
    "linear = linear_model.LinearRegression()\n",
    "linear.fit(x, y)\n",
    "\n",
    "y_pred = linear.predict(x)\n",
    "\n",
    "# This 1st line is just for the color of the line :) \n",
    "plt.plot(x, y_pred, color='green')\n",
    "plt.scatter(x, y)\n",
    "plt.xlabel('Lifetime Stem Cell Divisions(Log Transformed)')\n",
    "plt.ylabel('Lifetime Cancer Risk(Log Transformed)')\n",
    "plt.show()\n",
    "\n",
    "# R^2 value of linear regression model\n",
    "print('This linear regression model has a coefficient of determination value of {0}'.format(linear.score(x, y)))\n",
    "\n",
    "# Slope of model\n",
    "print('slope:', linear.coef_)"
   ]
  },
  {
   "cell_type": "markdown",
   "id": "bad63b20-a3ed-42b0-85c8-60379831691c",
   "metadata": {},
   "source": [
    "### Pearson's Correlation Coefficient & P-Value"
   ]
  },
  {
   "cell_type": "code",
   "execution_count": 8,
   "id": "c48e1efe-1ec9-43ce-9902-36086b8b7ac1",
   "metadata": {},
   "outputs": [
    {
     "data": {
      "text/plain": [
       "(0.8363922290401244, 6.638030189718123e-07)"
      ]
     },
     "execution_count": 8,
     "metadata": {},
     "output_type": "execute_result"
    }
   ],
   "source": [
    "# Converting DataFrame to NumPy Arrays\n",
    "xarray = cancer_sc_df['Log10TotaStemCellDivisions'].to_numpy()\n",
    "yarray = cancer_sc_df['Log10LifetimeRisk'].to_numpy()\n",
    "\n",
    "# Calculating R-value and P-value\n",
    "stats.pearsonr(xarray, yarray)"
   ]
  },
  {
   "cell_type": "markdown",
   "id": "3d8e3ddc-912f-4281-80fe-1b8a4c4e9eaf",
   "metadata": {},
   "source": [
    "The left value is Pearson's correlation coefficient and the right value is the p-value."
   ]
  },
  {
   "cell_type": "markdown",
   "id": "dedd9619-ee57-4f17-bd75-df0918300daa",
   "metadata": {},
   "source": [
    "As can be seen, the he high correlation coefficient strongly suggests a linear, direct correlation. p-value is below 0.05, and so the null-hypothesis is rejected. The high correlation coefficient strongly suggests a linear, direct correlation. "
   ]
  }
 ],
 "metadata": {
  "kernelspec": {
   "display_name": "Python 3",
   "language": "python",
   "name": "python3"
  },
  "language_info": {
   "codemirror_mode": {
    "name": "ipython",
    "version": 3
   },
   "file_extension": ".py",
   "mimetype": "text/x-python",
   "name": "python",
   "nbconvert_exporter": "python",
   "pygments_lexer": "ipython3",
   "version": "3.8.8"
  }
 },
 "nbformat": 4,
 "nbformat_minor": 5
}
